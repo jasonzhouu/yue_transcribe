{
 "cells": [
  {
   "cell_type": "code",
   "execution_count": 1,
   "metadata": {},
   "outputs": [
    {
     "name": "stdout",
     "output_type": "stream",
     "text": [
      "a0a4faf56c18abd3199b0e163a4b27d9\n"
     ]
    }
   ],
   "source": [
    "from aliyunSenseVoice import get_video_hash\n",
    "\n",
    "hash = get_video_hash(\"https://youtu.be/l2JAsuVG_8c\")\n",
    "print(hash)"
   ]
  }
 ],
 "metadata": {
  "kernelspec": {
   "display_name": "Python 3",
   "language": "python",
   "name": "python3"
  },
  "language_info": {
   "codemirror_mode": {
    "name": "ipython",
    "version": 3
   },
   "file_extension": ".py",
   "mimetype": "text/x-python",
   "name": "python",
   "nbconvert_exporter": "python",
   "pygments_lexer": "ipython3",
   "version": "3.11.11"
  }
 },
 "nbformat": 4,
 "nbformat_minor": 2
}
